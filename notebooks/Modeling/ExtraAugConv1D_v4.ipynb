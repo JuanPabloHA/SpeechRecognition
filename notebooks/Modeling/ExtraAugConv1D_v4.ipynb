{
  "nbformat": 4,
  "nbformat_minor": 0,
  "metadata": {
    "kernelspec": {
      "name": "python3",
      "display_name": "Python 3"
    },
    "colab": {
      "name": "ExtraAugConv1D_v4.ipynb",
      "provenance": [],
      "collapsed_sections": []
    },
    "accelerator": "GPU"
  },
  "cells": [
    {
      "cell_type": "code",
      "metadata": {
        "id": "mhKetnsVquDR",
        "colab_type": "code",
        "colab": {
          "base_uri": "https://localhost:8080/",
          "height": 34
        },
        "outputId": "bf9158e0-3889-400b-b967-56aecfa52b61"
      },
      "source": [
        "import os\n",
        "import numpy as np\n",
        "\n",
        "from sklearn.model_selection import train_test_split\n",
        "\n",
        "import keras\n",
        "from keras import layers\n",
        "\n",
        "import matplotlib.pyplot as plt"
      ],
      "execution_count": null,
      "outputs": [
        {
          "output_type": "stream",
          "text": [
            "Using TensorFlow backend.\n"
          ],
          "name": "stderr"
        }
      ]
    },
    {
      "cell_type": "code",
      "metadata": {
        "id": "ib1EgDLMrp-i",
        "colab_type": "code",
        "colab": {
          "base_uri": "https://localhost:8080/",
          "height": 122
        },
        "outputId": "e5419cd7-5d51-4def-aca0-5ac8c7fe645e"
      },
      "source": [
        "from google.colab import drive\n",
        "drive.mount('/content/drive')"
      ],
      "execution_count": null,
      "outputs": [
        {
          "output_type": "stream",
          "text": [
            "Go to this URL in a browser: https://accounts.google.com/o/oauth2/auth?client_id=947318989803-6bn6qk8qdgf4n4g3pfee6491hc0brc4i.apps.googleusercontent.com&redirect_uri=urn%3aietf%3awg%3aoauth%3a2.0%3aoob&response_type=code&scope=email%20https%3a%2f%2fwww.googleapis.com%2fauth%2fdocs.test%20https%3a%2f%2fwww.googleapis.com%2fauth%2fdrive%20https%3a%2f%2fwww.googleapis.com%2fauth%2fdrive.photos.readonly%20https%3a%2f%2fwww.googleapis.com%2fauth%2fpeopleapi.readonly\n",
            "\n",
            "Enter your authorization code:\n",
            "··········\n",
            "Mounted at /content/drive\n"
          ],
          "name": "stdout"
        }
      ]
    },
    {
      "cell_type": "code",
      "metadata": {
        "id": "ufyydZ9hquDa",
        "colab_type": "code",
        "colab": {
          "base_uri": "https://localhost:8080/",
          "height": 34
        },
        "outputId": "32afc649-2586-40e5-859f-478adca9684b"
      },
      "source": [
        "print(os.getcwd())"
      ],
      "execution_count": null,
      "outputs": [
        {
          "output_type": "stream",
          "text": [
            "/content\n"
          ],
          "name": "stdout"
        }
      ]
    },
    {
      "cell_type": "code",
      "metadata": {
        "id": "TijiHqi5quDe",
        "colab_type": "code",
        "colab": {}
      },
      "source": [
        "os.chdir('drive/My Drive/FLNN_MP/')"
      ],
      "execution_count": null,
      "outputs": []
    },
    {
      "cell_type": "code",
      "metadata": {
        "id": "AWBNJC8aquDh",
        "colab_type": "code",
        "colab": {}
      },
      "source": [
        "# Load the preprocessed datasets\n",
        "X_train = np.load('Data/X_train_3.npy', allow_pickle=True)\n",
        "X_test = np.load('Data/X_test_3.npy', allow_pickle=True)\n",
        "\n",
        "d_train = np.load('Data/d_train_3.npy', allow_pickle=True)\n",
        "d_test = np.load('Data/d_test_3.npy', allow_pickle=True)"
      ],
      "execution_count": null,
      "outputs": []
    },
    {
      "cell_type": "code",
      "metadata": {
        "id": "4-vh5IUVquDp",
        "colab_type": "code",
        "colab": {}
      },
      "source": [
        "# Parameters\n",
        "lr = 0.0001\n",
        "drop_out_rate = 0.3\n",
        "input_shape = (8000,1)"
      ],
      "execution_count": null,
      "outputs": []
    },
    {
      "cell_type": "code",
      "metadata": {
        "id": "PyJo9zouquDt",
        "colab_type": "code",
        "colab": {}
      },
      "source": [
        "# Conv 1D Model \n",
        "\n",
        "def ExtraAugConv1D_4(input_shape, drop_out_rate):\n",
        "    inputs = keras.Input(shape=input_shape)\n",
        "    \n",
        "    x = layers.Conv1D(8, 100, strides=1, padding='same', activation='tanh')(inputs)\n",
        "    x = layers.MaxPool1D(pool_size=2)(x)\n",
        "    x = layers.BatchNormalization()(x)\n",
        "\n",
        "    x = layers.SpatialDropout1D(drop_out_rate)(x)\n",
        "\n",
        "    x = layers.Conv1D(16, 60, strides=1, padding='same', activation='relu')(x)\n",
        "    x = layers.MaxPool1D(pool_size=2)(x)\n",
        "      x = layers.BatchNormalization()(x)\n",
        "\n",
        "    x = layers.SpatialDropout1D(drop_out_rate)(x)\n",
        "\n",
        "    x = layers.Conv1D(24, 40, strides=1, padding='same', activation='tanh')(x)\n",
        "    x = layers.BatchNormalization()(x)\n",
        "    x = layers.MaxPool1D(pool_size=2)(x)\n",
        "\n",
        "    x = layers.SpatialDropout1D(drop_out_rate)(x)\n",
        "\n",
        "    x = layers.Conv1D(32, 20, strides=1, padding='same', activation='relu')(x)\n",
        "    x = layers.BatchNormalization()(x)\n",
        "    x = layers.MaxPool1D(pool_size=2)(x)\n",
        "\n",
        "    x = layers.Dropout(drop_out_rate)(x)\n",
        "\n",
        "    x = layers.Dense(64, activation='tanh')(x)\n",
        "    x = layers.BatchNormalization()(x)\n",
        "\n",
        "    x = layers.Dense(128, activation='relu')(x)\n",
        "    x = layers.BatchNormalization()(x)\n",
        "\n",
        "    x = layers.Dropout(drop_out_rate)(x)\n",
        "    \n",
        "    x = layers.Flatten()(x)\n",
        "        \n",
        "    outputs = layers.Dense(30, activation='softmax')(x)\n",
        "    \n",
        "    return keras.Model(inputs, outputs)\n",
        "\n",
        "ExtraAugConv1D_4 = ExtraAugConv1D_4(input_shape, drop_out_rate)"
      ],
      "execution_count": null,
      "outputs": []
    },
    {
      "cell_type": "code",
      "metadata": {
        "id": "f61BQZ_wquDx",
        "colab_type": "code",
        "colab": {
          "base_uri": "https://localhost:8080/",
          "height": 969
        },
        "outputId": "829b4b57-01d6-4050-89b7-90a1dd0308a1"
      },
      "source": [
        "# Model Summary\n",
        "ExtraAugConv1D_4.compile(\n",
        "    optimizer=keras.optimizers.Adam(lr),\n",
        "    loss='categorical_crossentropy',\n",
        "    metrics=['accuracy']\n",
        ")\n",
        "\n",
        "ExtraAugConv1D_4.summary()"
      ],
      "execution_count": null,
      "outputs": [
        {
          "output_type": "stream",
          "text": [
            "Model: \"model_2\"\n",
            "_________________________________________________________________\n",
            "Layer (type)                 Output Shape              Param #   \n",
            "=================================================================\n",
            "input_2 (InputLayer)         (None, 8000, 1)           0         \n",
            "_________________________________________________________________\n",
            "conv1d_5 (Conv1D)            (None, 8000, 8)           808       \n",
            "_________________________________________________________________\n",
            "batch_normalization_7 (Batch (None, 8000, 8)           32        \n",
            "_________________________________________________________________\n",
            "max_pooling1d_5 (MaxPooling1 (None, 4000, 8)           0         \n",
            "_________________________________________________________________\n",
            "spatial_dropout1d_4 (Spatial (None, 4000, 8)           0         \n",
            "_________________________________________________________________\n",
            "conv1d_6 (Conv1D)            (None, 4000, 16)          7696      \n",
            "_________________________________________________________________\n",
            "batch_normalization_8 (Batch (None, 4000, 16)          64        \n",
            "_________________________________________________________________\n",
            "max_pooling1d_6 (MaxPooling1 (None, 2000, 16)          0         \n",
            "_________________________________________________________________\n",
            "spatial_dropout1d_5 (Spatial (None, 2000, 16)          0         \n",
            "_________________________________________________________________\n",
            "conv1d_7 (Conv1D)            (None, 2000, 24)          15384     \n",
            "_________________________________________________________________\n",
            "batch_normalization_9 (Batch (None, 2000, 24)          96        \n",
            "_________________________________________________________________\n",
            "max_pooling1d_7 (MaxPooling1 (None, 1000, 24)          0         \n",
            "_________________________________________________________________\n",
            "spatial_dropout1d_6 (Spatial (None, 1000, 24)          0         \n",
            "_________________________________________________________________\n",
            "conv1d_8 (Conv1D)            (None, 1000, 32)          15392     \n",
            "_________________________________________________________________\n",
            "batch_normalization_10 (Batc (None, 1000, 32)          128       \n",
            "_________________________________________________________________\n",
            "max_pooling1d_8 (MaxPooling1 (None, 500, 32)           0         \n",
            "_________________________________________________________________\n",
            "dropout_3 (Dropout)          (None, 500, 32)           0         \n",
            "_________________________________________________________________\n",
            "dense_4 (Dense)              (None, 500, 64)           2112      \n",
            "_________________________________________________________________\n",
            "batch_normalization_11 (Batc (None, 500, 64)           256       \n",
            "_________________________________________________________________\n",
            "dense_5 (Dense)              (None, 500, 128)          8320      \n",
            "_________________________________________________________________\n",
            "batch_normalization_12 (Batc (None, 500, 128)          512       \n",
            "_________________________________________________________________\n",
            "dropout_4 (Dropout)          (None, 500, 128)          0         \n",
            "_________________________________________________________________\n",
            "flatten_2 (Flatten)          (None, 64000)             0         \n",
            "_________________________________________________________________\n",
            "dense_6 (Dense)              (None, 30)                1920030   \n",
            "=================================================================\n",
            "Total params: 1,970,830\n",
            "Trainable params: 1,970,286\n",
            "Non-trainable params: 544\n",
            "_________________________________________________________________\n"
          ],
          "name": "stdout"
        }
      ]
    },
    {
      "cell_type": "code",
      "metadata": {
        "id": "7axyfokdquD0",
        "colab_type": "code",
        "colab": {
          "base_uri": "https://localhost:8080/",
          "height": 1000
        },
        "outputId": "76eb49da-2b37-4658-9606-df3ef062f675"
      },
      "source": [
        "# Model Fit\n",
        "ExtraAugConv1D_4_h = ExtraAugConv1D_4.fit(\n",
        "    X_train, \n",
        "    d_train,\n",
        "    validation_data=[X_test, d_test],\n",
        "    epochs= 100\n",
        ")"
      ],
      "execution_count": null,
      "outputs": [
        {
          "output_type": "stream",
          "text": [
            "Train on 58896 samples, validate on 25242 samples\n",
            "Epoch 1/100\n",
            "58896/58896 [==============================] - 59s 997us/step - loss: 4.5044 - accuracy: 0.0647 - val_loss: 3.6052 - val_accuracy: 0.1295\n",
            "Epoch 2/100\n",
            "58896/58896 [==============================] - 51s 859us/step - loss: 3.9446 - accuracy: 0.1205 - val_loss: 3.3266 - val_accuracy: 0.2050\n",
            "Epoch 3/100\n",
            "58896/58896 [==============================] - 51s 861us/step - loss: 3.4551 - accuracy: 0.1805 - val_loss: 3.0421 - val_accuracy: 0.2661\n",
            "Epoch 4/100\n",
            "58896/58896 [==============================] - 50s 855us/step - loss: 3.0868 - accuracy: 0.2344 - val_loss: 2.7136 - val_accuracy: 0.3216\n",
            "Epoch 5/100\n",
            "58896/58896 [==============================] - 51s 864us/step - loss: 2.7670 - accuracy: 0.2857 - val_loss: 2.9685 - val_accuracy: 0.3221\n",
            "Epoch 6/100\n",
            "58896/58896 [==============================] - 51s 859us/step - loss: 2.4831 - accuracy: 0.3402 - val_loss: 3.2250 - val_accuracy: 0.3127\n",
            "Epoch 7/100\n",
            "58896/58896 [==============================] - 51s 861us/step - loss: 2.2241 - accuracy: 0.3927 - val_loss: 3.3191 - val_accuracy: 0.3365\n",
            "Epoch 8/100\n",
            "58896/58896 [==============================] - 51s 860us/step - loss: 1.9976 - accuracy: 0.4431 - val_loss: 2.6437 - val_accuracy: 0.4196\n",
            "Epoch 9/100\n",
            "58896/58896 [==============================] - 51s 861us/step - loss: 1.7958 - accuracy: 0.4929 - val_loss: 2.4456 - val_accuracy: 0.4465\n",
            "Epoch 10/100\n",
            "58896/58896 [==============================] - 51s 862us/step - loss: 1.6435 - accuracy: 0.5285 - val_loss: 2.1368 - val_accuracy: 0.4924\n",
            "Epoch 11/100\n",
            "58896/58896 [==============================] - 51s 864us/step - loss: 1.5055 - accuracy: 0.5646 - val_loss: 1.7068 - val_accuracy: 0.5702\n",
            "Epoch 12/100\n",
            "58896/58896 [==============================] - 51s 862us/step - loss: 1.3819 - accuracy: 0.5953 - val_loss: 2.8192 - val_accuracy: 0.4353\n",
            "Epoch 13/100\n",
            "58896/58896 [==============================] - 51s 859us/step - loss: 1.2774 - accuracy: 0.6252 - val_loss: 1.5694 - val_accuracy: 0.6055\n",
            "Epoch 14/100\n",
            "58896/58896 [==============================] - 51s 859us/step - loss: 1.1880 - accuracy: 0.6487 - val_loss: 1.3237 - val_accuracy: 0.6603\n",
            "Epoch 15/100\n",
            "58896/58896 [==============================] - 51s 858us/step - loss: 1.1009 - accuracy: 0.6729 - val_loss: 1.2658 - val_accuracy: 0.6754\n",
            "Epoch 16/100\n",
            "58896/58896 [==============================] - 51s 863us/step - loss: 1.0391 - accuracy: 0.6898 - val_loss: 1.5892 - val_accuracy: 0.6142\n",
            "Epoch 17/100\n",
            "58896/58896 [==============================] - 51s 863us/step - loss: 0.9761 - accuracy: 0.7048 - val_loss: 1.2629 - val_accuracy: 0.6814\n",
            "Epoch 18/100\n",
            "58896/58896 [==============================] - 51s 865us/step - loss: 0.9201 - accuracy: 0.7231 - val_loss: 1.8837 - val_accuracy: 0.5773\n",
            "Epoch 19/100\n",
            "58896/58896 [==============================] - 51s 862us/step - loss: 0.8775 - accuracy: 0.7337 - val_loss: 1.6472 - val_accuracy: 0.6224\n",
            "Epoch 20/100\n",
            "58896/58896 [==============================] - 51s 861us/step - loss: 0.8186 - accuracy: 0.7534 - val_loss: 1.2737 - val_accuracy: 0.6886\n",
            "Epoch 21/100\n",
            "58896/58896 [==============================] - 51s 861us/step - loss: 0.7839 - accuracy: 0.7617 - val_loss: 1.1215 - val_accuracy: 0.7284\n",
            "Epoch 22/100\n",
            "58896/58896 [==============================] - 51s 862us/step - loss: 0.7554 - accuracy: 0.7677 - val_loss: 1.4178 - val_accuracy: 0.6779\n",
            "Epoch 23/100\n",
            "58896/58896 [==============================] - 51s 864us/step - loss: 0.7310 - accuracy: 0.7758 - val_loss: 1.6725 - val_accuracy: 0.6339\n",
            "Epoch 24/100\n",
            "58896/58896 [==============================] - 51s 863us/step - loss: 0.6831 - accuracy: 0.7907 - val_loss: 1.0867 - val_accuracy: 0.7369\n",
            "Epoch 25/100\n",
            "58896/58896 [==============================] - 51s 858us/step - loss: 0.6591 - accuracy: 0.7978 - val_loss: 1.1158 - val_accuracy: 0.7380\n",
            "Epoch 26/100\n",
            "58896/58896 [==============================] - 51s 859us/step - loss: 0.6431 - accuracy: 0.8023 - val_loss: 1.1721 - val_accuracy: 0.7271\n",
            "Epoch 27/100\n",
            "58896/58896 [==============================] - 51s 858us/step - loss: 0.6178 - accuracy: 0.8095 - val_loss: 2.0584 - val_accuracy: 0.5836\n",
            "Epoch 28/100\n",
            "58896/58896 [==============================] - 51s 864us/step - loss: 0.5861 - accuracy: 0.8183 - val_loss: 1.0438 - val_accuracy: 0.7581\n",
            "Epoch 29/100\n",
            "58896/58896 [==============================] - 51s 864us/step - loss: 0.5721 - accuracy: 0.8212 - val_loss: 1.2301 - val_accuracy: 0.7244\n",
            "Epoch 30/100\n",
            "58896/58896 [==============================] - 51s 864us/step - loss: 0.5578 - accuracy: 0.8266 - val_loss: 1.2113 - val_accuracy: 0.7338\n",
            "Epoch 31/100\n",
            "58896/58896 [==============================] - 51s 859us/step - loss: 0.5388 - accuracy: 0.8325 - val_loss: 1.0611 - val_accuracy: 0.7614\n",
            "Epoch 32/100\n",
            "58896/58896 [==============================] - 51s 860us/step - loss: 0.5212 - accuracy: 0.8377 - val_loss: 1.4143 - val_accuracy: 0.7026\n",
            "Epoch 33/100\n",
            "58896/58896 [==============================] - 51s 861us/step - loss: 0.5043 - accuracy: 0.8434 - val_loss: 1.0865 - val_accuracy: 0.7600\n",
            "Epoch 34/100\n",
            "58896/58896 [==============================] - 51s 862us/step - loss: 0.4907 - accuracy: 0.8472 - val_loss: 1.0570 - val_accuracy: 0.7662\n",
            "Epoch 35/100\n",
            "58896/58896 [==============================] - 51s 863us/step - loss: 0.4824 - accuracy: 0.8490 - val_loss: 1.3681 - val_accuracy: 0.7102\n",
            "Epoch 36/100\n",
            "58896/58896 [==============================] - 51s 866us/step - loss: 0.4663 - accuracy: 0.8554 - val_loss: 1.0493 - val_accuracy: 0.7681\n",
            "Epoch 37/100\n",
            "58896/58896 [==============================] - 51s 859us/step - loss: 0.4604 - accuracy: 0.8567 - val_loss: 1.7783 - val_accuracy: 0.6493\n",
            "Epoch 38/100\n",
            "58896/58896 [==============================] - 51s 860us/step - loss: 0.4485 - accuracy: 0.8595 - val_loss: 1.2453 - val_accuracy: 0.7422\n",
            "Epoch 39/100\n",
            "58896/58896 [==============================] - 51s 858us/step - loss: 0.4308 - accuracy: 0.8664 - val_loss: 1.2610 - val_accuracy: 0.7430\n",
            "Epoch 40/100\n",
            "58896/58896 [==============================] - 51s 862us/step - loss: 0.4244 - accuracy: 0.8672 - val_loss: 1.1553 - val_accuracy: 0.7589\n",
            "Epoch 41/100\n",
            "58896/58896 [==============================] - 50s 857us/step - loss: 0.4163 - accuracy: 0.8698 - val_loss: 1.4411 - val_accuracy: 0.7140\n",
            "Epoch 42/100\n",
            "58896/58896 [==============================] - 51s 860us/step - loss: 0.4093 - accuracy: 0.8718 - val_loss: 1.2432 - val_accuracy: 0.7505\n",
            "Epoch 43/100\n",
            "58896/58896 [==============================] - 51s 858us/step - loss: 0.4026 - accuracy: 0.8738 - val_loss: 1.1785 - val_accuracy: 0.7651\n",
            "Epoch 44/100\n",
            "58896/58896 [==============================] - 50s 856us/step - loss: 0.3974 - accuracy: 0.8757 - val_loss: 1.1485 - val_accuracy: 0.7683\n",
            "Epoch 45/100\n",
            "58896/58896 [==============================] - 50s 855us/step - loss: 0.3826 - accuracy: 0.8797 - val_loss: 1.0987 - val_accuracy: 0.7767\n",
            "Epoch 46/100\n",
            "58896/58896 [==============================] - 51s 859us/step - loss: 0.3838 - accuracy: 0.8803 - val_loss: 1.0784 - val_accuracy: 0.7704\n",
            "Epoch 47/100\n",
            "58896/58896 [==============================] - 50s 854us/step - loss: 0.3674 - accuracy: 0.8839 - val_loss: 1.1907 - val_accuracy: 0.7605\n",
            "Epoch 48/100\n",
            "58896/58896 [==============================] - 50s 854us/step - loss: 0.3622 - accuracy: 0.8880 - val_loss: 1.0602 - val_accuracy: 0.7847\n",
            "Epoch 49/100\n",
            "58896/58896 [==============================] - 50s 855us/step - loss: 0.3532 - accuracy: 0.8886 - val_loss: 1.0890 - val_accuracy: 0.7799\n",
            "Epoch 50/100\n",
            "58896/58896 [==============================] - 50s 855us/step - loss: 0.3523 - accuracy: 0.8893 - val_loss: 1.0856 - val_accuracy: 0.7836\n",
            "Epoch 51/100\n",
            "58896/58896 [==============================] - 51s 858us/step - loss: 0.3399 - accuracy: 0.8934 - val_loss: 1.4168 - val_accuracy: 0.7345\n",
            "Epoch 52/100\n",
            "58896/58896 [==============================] - 51s 861us/step - loss: 0.3369 - accuracy: 0.8931 - val_loss: 1.1465 - val_accuracy: 0.7789\n",
            "Epoch 53/100\n",
            "58896/58896 [==============================] - 50s 857us/step - loss: 0.3323 - accuracy: 0.8961 - val_loss: 1.3221 - val_accuracy: 0.7534\n",
            "Epoch 54/100\n",
            "58896/58896 [==============================] - 51s 862us/step - loss: 0.3396 - accuracy: 0.8941 - val_loss: 1.2042 - val_accuracy: 0.7718\n",
            "Epoch 55/100\n",
            "58896/58896 [==============================] - 51s 858us/step - loss: 0.3219 - accuracy: 0.8999 - val_loss: 1.0983 - val_accuracy: 0.7845\n",
            "Epoch 56/100\n",
            "58896/58896 [==============================] - 50s 854us/step - loss: 0.3190 - accuracy: 0.8993 - val_loss: 1.1057 - val_accuracy: 0.7817\n",
            "Epoch 57/100\n",
            "58896/58896 [==============================] - 50s 855us/step - loss: 0.3104 - accuracy: 0.9037 - val_loss: 1.3144 - val_accuracy: 0.7573\n",
            "Epoch 58/100\n",
            "58896/58896 [==============================] - 51s 860us/step - loss: 0.3077 - accuracy: 0.9029 - val_loss: 1.2029 - val_accuracy: 0.7722\n",
            "Epoch 59/100\n",
            "58896/58896 [==============================] - 51s 858us/step - loss: 0.3060 - accuracy: 0.9039 - val_loss: 1.2495 - val_accuracy: 0.7726\n",
            "Epoch 60/100\n",
            "58896/58896 [==============================] - 50s 857us/step - loss: 0.3088 - accuracy: 0.9040 - val_loss: 1.0979 - val_accuracy: 0.7879\n",
            "Epoch 61/100\n",
            "58896/58896 [==============================] - 51s 863us/step - loss: 0.2988 - accuracy: 0.9068 - val_loss: 1.1101 - val_accuracy: 0.7883\n",
            "Epoch 62/100\n",
            "58896/58896 [==============================] - 51s 859us/step - loss: 0.3008 - accuracy: 0.9054 - val_loss: 1.1131 - val_accuracy: 0.7892\n",
            "Epoch 63/100\n",
            "58896/58896 [==============================] - 51s 860us/step - loss: 0.2976 - accuracy: 0.9083 - val_loss: 1.1815 - val_accuracy: 0.7683\n",
            "Epoch 64/100\n",
            "58896/58896 [==============================] - 51s 864us/step - loss: 0.2827 - accuracy: 0.9120 - val_loss: 1.1328 - val_accuracy: 0.7805\n",
            "Epoch 65/100\n",
            "58896/58896 [==============================] - 51s 863us/step - loss: 0.2827 - accuracy: 0.9119 - val_loss: 1.1323 - val_accuracy: 0.7890\n",
            "Epoch 66/100\n",
            "58896/58896 [==============================] - 51s 858us/step - loss: 0.2848 - accuracy: 0.9113 - val_loss: 1.1459 - val_accuracy: 0.7824\n",
            "Epoch 67/100\n",
            "58896/58896 [==============================] - 51s 864us/step - loss: 0.2779 - accuracy: 0.9139 - val_loss: 1.1264 - val_accuracy: 0.7872\n",
            "Epoch 68/100\n",
            "58896/58896 [==============================] - 51s 860us/step - loss: 0.2758 - accuracy: 0.9148 - val_loss: 1.2227 - val_accuracy: 0.7757\n",
            "Epoch 69/100\n",
            "58896/58896 [==============================] - 51s 859us/step - loss: 0.2708 - accuracy: 0.9158 - val_loss: 1.1262 - val_accuracy: 0.7926\n",
            "Epoch 70/100\n",
            "58896/58896 [==============================] - 51s 861us/step - loss: 0.2687 - accuracy: 0.9165 - val_loss: 1.4477 - val_accuracy: 0.7474\n",
            "Epoch 71/100\n",
            "58896/58896 [==============================] - 51s 858us/step - loss: 0.2599 - accuracy: 0.9175 - val_loss: 1.1593 - val_accuracy: 0.7822\n",
            "Epoch 72/100\n",
            "58896/58896 [==============================] - 51s 863us/step - loss: 0.2688 - accuracy: 0.9165 - val_loss: 1.1904 - val_accuracy: 0.7763\n",
            "Epoch 73/100\n",
            "58896/58896 [==============================] - 51s 866us/step - loss: 0.2642 - accuracy: 0.9164 - val_loss: 1.1660 - val_accuracy: 0.7871\n",
            "Epoch 74/100\n",
            "58896/58896 [==============================] - 51s 862us/step - loss: 0.2515 - accuracy: 0.9211 - val_loss: 1.3139 - val_accuracy: 0.7703\n",
            "Epoch 75/100\n",
            "58896/58896 [==============================] - 51s 861us/step - loss: 0.2544 - accuracy: 0.9191 - val_loss: 1.3779 - val_accuracy: 0.7606\n",
            "Epoch 76/100\n",
            "58896/58896 [==============================] - 51s 864us/step - loss: 0.2587 - accuracy: 0.9196 - val_loss: 1.1502 - val_accuracy: 0.7917\n",
            "Epoch 77/100\n",
            "58896/58896 [==============================] - 51s 865us/step - loss: 0.2491 - accuracy: 0.9219 - val_loss: 1.1513 - val_accuracy: 0.7883\n",
            "Epoch 78/100\n",
            "58896/58896 [==============================] - 51s 860us/step - loss: 0.2493 - accuracy: 0.9222 - val_loss: 1.5917 - val_accuracy: 0.7310\n",
            "Epoch 79/100\n",
            "58896/58896 [==============================] - 51s 864us/step - loss: 0.2471 - accuracy: 0.9216 - val_loss: 1.1987 - val_accuracy: 0.7850\n",
            "Epoch 80/100\n",
            "58896/58896 [==============================] - 51s 861us/step - loss: 0.2414 - accuracy: 0.9243 - val_loss: 1.2456 - val_accuracy: 0.7798\n",
            "Epoch 81/100\n",
            "58896/58896 [==============================] - 51s 858us/step - loss: 0.2407 - accuracy: 0.9255 - val_loss: 1.1818 - val_accuracy: 0.7837\n",
            "Epoch 82/100\n",
            "58896/58896 [==============================] - 51s 863us/step - loss: 0.2400 - accuracy: 0.9250 - val_loss: 1.2382 - val_accuracy: 0.7836\n",
            "Epoch 83/100\n",
            "58896/58896 [==============================] - 51s 864us/step - loss: 0.2374 - accuracy: 0.9264 - val_loss: 1.1532 - val_accuracy: 0.7929\n",
            "Epoch 84/100\n",
            "58896/58896 [==============================] - 51s 858us/step - loss: 0.2373 - accuracy: 0.9269 - val_loss: 1.2458 - val_accuracy: 0.7834\n",
            "Epoch 85/100\n",
            "58896/58896 [==============================] - 51s 864us/step - loss: 0.2399 - accuracy: 0.9248 - val_loss: 1.3069 - val_accuracy: 0.7749\n",
            "Epoch 86/100\n",
            "58896/58896 [==============================] - 51s 858us/step - loss: 0.2323 - accuracy: 0.9277 - val_loss: 1.1667 - val_accuracy: 0.7924\n",
            "Epoch 87/100\n",
            "58896/58896 [==============================] - 51s 861us/step - loss: 0.2319 - accuracy: 0.9273 - val_loss: 1.1967 - val_accuracy: 0.7915\n",
            "Epoch 88/100\n",
            "58896/58896 [==============================] - 51s 861us/step - loss: 0.2321 - accuracy: 0.9275 - val_loss: 1.2188 - val_accuracy: 0.7896\n",
            "Epoch 89/100\n",
            "58896/58896 [==============================] - 51s 858us/step - loss: 0.2253 - accuracy: 0.9299 - val_loss: 1.7733 - val_accuracy: 0.7150\n",
            "Epoch 90/100\n",
            "58896/58896 [==============================] - 51s 858us/step - loss: 0.2241 - accuracy: 0.9309 - val_loss: 1.2485 - val_accuracy: 0.7848\n",
            "Epoch 91/100\n",
            "58896/58896 [==============================] - 51s 863us/step - loss: 0.2264 - accuracy: 0.9307 - val_loss: 1.2198 - val_accuracy: 0.7879\n",
            "Epoch 92/100\n",
            "58896/58896 [==============================] - 51s 861us/step - loss: 0.2228 - accuracy: 0.9303 - val_loss: 1.1862 - val_accuracy: 0.7896\n",
            "Epoch 93/100\n",
            "58896/58896 [==============================] - 51s 860us/step - loss: 0.2218 - accuracy: 0.9307 - val_loss: 1.1859 - val_accuracy: 0.7864\n",
            "Epoch 94/100\n",
            "58896/58896 [==============================] - 51s 866us/step - loss: 0.2207 - accuracy: 0.9317 - val_loss: 1.1955 - val_accuracy: 0.7909\n",
            "Epoch 95/100\n",
            "58896/58896 [==============================] - 51s 859us/step - loss: 0.2211 - accuracy: 0.9308 - val_loss: 1.1736 - val_accuracy: 0.7934\n",
            "Epoch 96/100\n",
            "58896/58896 [==============================] - 51s 861us/step - loss: 0.2111 - accuracy: 0.9344 - val_loss: 1.1902 - val_accuracy: 0.7934\n",
            "Epoch 97/100\n",
            "58896/58896 [==============================] - 51s 863us/step - loss: 0.2209 - accuracy: 0.9328 - val_loss: 1.1728 - val_accuracy: 0.7910\n",
            "Epoch 98/100\n",
            "58896/58896 [==============================] - 50s 856us/step - loss: 0.2130 - accuracy: 0.9333 - val_loss: 1.2258 - val_accuracy: 0.7874\n",
            "Epoch 99/100\n",
            "58896/58896 [==============================] - 51s 859us/step - loss: 0.2104 - accuracy: 0.9345 - val_loss: 1.3249 - val_accuracy: 0.7741\n",
            "Epoch 100/100\n",
            "58896/58896 [==============================] - 51s 861us/step - loss: 0.2061 - accuracy: 0.9356 - val_loss: 1.2330 - val_accuracy: 0.7907\n"
          ],
          "name": "stdout"
        }
      ]
    },
    {
      "cell_type": "code",
      "metadata": {
        "id": "AX1RpRevkIEy",
        "colab_type": "code",
        "colab": {}
      },
      "source": [
        "# Save the model\n",
        "ExtraAugConv1D_4.save('Outputs/ExtraAugConv1D_4.h5')"
      ],
      "execution_count": null,
      "outputs": []
    },
    {
      "cell_type": "code",
      "metadata": {
        "id": "FsY7aUfMquD3",
        "colab_type": "code",
        "colab": {
          "base_uri": "https://localhost:8080/",
          "height": 407
        },
        "outputId": "7ef5c819-9cc3-4f9b-86f3-ba3280d63959"
      },
      "source": [
        "plt.rcParams['figure.figsize'] = [10, 6]\n",
        "plt.style.use('seaborn')\n",
        "fig, ax = plt.subplots(2,1, sharex=True)\n",
        "ax[0].plot(ExtraAugConv1D_4_h.history['accuracy'])\n",
        "ax[0].plot(ExtraAugConv1D_4_h.history['val_accuracy'])\n",
        "ax[0].set_title('Model Accuracy')\n",
        "ax[0].set_ylabel('Accuracy')\n",
        "ax[0].legend(['Train', 'Validation'], loc='upper left')\n",
        "ax[1].plot(ExtraAugConv1D_4_h.history['loss'])\n",
        "ax[1].plot(ExtraAugConv1D_4_h.history['val_loss'])\n",
        "ax[1].set_title('Model Loss')\n",
        "ax[1].set_ylabel('Loss')\n",
        "ax[1].set_xlabel('Epoch')\n",
        "ax[1].legend(['Train', 'Validation'], loc='upper left')\n",
        "fig.tight_layout(pad=1)"
      ],
      "execution_count": null,
      "outputs": [
        {
          "output_type": "display_data",
          "data": {
            "image/png": "[encoded data removed]",
            "text/plain": [
              "<Figure size 576x396 with 2 Axes>"
            ]
          },
          "metadata": {
            "tags": []
          }
        }
      ]
    },
    {
      "cell_type": "code",
      "metadata": {
        "id": "IaaCYvfRXivS",
        "colab_type": "code",
        "colab": {}
      },
      "source": [
        ""
      ],
      "execution_count": null,
      "outputs": []
    }
  ]
}