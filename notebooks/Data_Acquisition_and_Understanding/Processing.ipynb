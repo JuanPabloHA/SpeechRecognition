{
 "cells": [
  {
   "cell_type": "markdown",
   "metadata": {},
   "source": [
    "# Data Processing"
   ]
  },
  {
   "cell_type": "code",
   "execution_count": 1,
   "metadata": {},
   "outputs": [],
   "source": [
    "import os\n",
    "\n",
    "import numpy as np\n",
    "\n",
    "import librosa\n",
    "\n",
    "%matplotlib inline\n",
    "import matplotlib.pyplot as plt"
   ]
  },
  {
   "cell_type": "code",
   "execution_count": 2,
   "metadata": {},
   "outputs": [
    {
     "name": "stdout",
     "output_type": "stream",
     "text": [
      "/Users/juanpablo/OneDrive/UTS/NNFL/MajorProject\n"
     ]
    }
   ],
   "source": [
    "os.chdir('../../')\n",
    "print(os.getcwd())"
   ]
  },
  {
   "cell_type": "code",
   "execution_count": 3,
   "metadata": {},
   "outputs": [],
   "source": [
    "audiopath = 'data/audio/'\n",
    "words = os.listdir(audiopath)\n",
    "words.remove('.DS_Store')\n",
    "words.remove('_background_noise_')"
   ]
  },
  {
   "cell_type": "code",
   "execution_count": 4,
   "metadata": {},
   "outputs": [],
   "source": [
    "# Re-sampling of the data\n",
    "def re_sample(wds, tsr):\n",
    "    audio_samples_rs = []\n",
    "    labels = []\n",
    "    for w in wds:\n",
    "        files = os.listdir(audiopath+w)\n",
    "        for file in files:\n",
    "            samples, sample_rate = librosa.load(audiopath+'{}/{}'.format(w, file))\n",
    "            samples_rs = librosa.resample(samples, sample_rate, tsr)\n",
    "            audio_samples_rs.append(samples_rs)\n",
    "            labels.append(w)\n",
    "    return audio_samples_rs, labels"
   ]
  },
  {
   "cell_type": "code",
   "execution_count": 5,
   "metadata": {},
   "outputs": [],
   "source": [
    "target_sr = 8000\n",
    "samples, labels = re_sample(words, target_sr)"
   ]
  },
  {
   "cell_type": "code",
   "execution_count": 27,
   "metadata": {},
   "outputs": [],
   "source": [
    "# Adds padding to the files shorter than 8000 \n",
    "X_pad = [np.pad(samples[i], (int(np.floor((target_sr-len(samples[i]))/2)),\n",
    "                       int(np.ceil((target_sr-len(samples[i]))/2))), \n",
    "                'edge') if len(samples[i])<target_sr else samples[i] for i in range(len(samples))]"
   ]
  },
  {
   "cell_type": "code",
   "execution_count": 29,
   "metadata": {
    "collapsed": true,
    "jupyter": {
     "outputs_hidden": true
    }
   },
   "outputs": [
    {
     "name": "stderr",
     "output_type": "stream",
     "text": [
      "<ipython-input-29-e8ef43ef0588>:2: NumbaWarning:\n",
      "\n",
      "\u001b[1m\n",
      "Compilation is falling back to object mode WITH looplifting enabled because Function \"encode_class\" failed type inference due to: \u001b[1m\u001b[1m\u001b[1mInvalid use of Function(<built-in function array>) with argument(s) of type(s): (list(array(float64, 1d, C)))\n",
      " * parameterized\n",
      "\u001b[1mIn definition 0:\u001b[0m\n",
      "\u001b[1m    TypingError: \u001b[1marray(float64, 1d, C) not allowed in a homogeneous sequence\u001b[0m\u001b[0m\n",
      "    raised from /Users/juanpablo/Desktop/NNFL/plaidml/lib/python3.7/site-packages/numba/core/typing/npydecl.py:462\n",
      "\u001b[1mIn definition 1:\u001b[0m\n",
      "\u001b[1m    TypingError: \u001b[1marray(float64, 1d, C) not allowed in a homogeneous sequence\u001b[0m\u001b[0m\n",
      "    raised from /Users/juanpablo/Desktop/NNFL/plaidml/lib/python3.7/site-packages/numba/core/typing/npydecl.py:462\n",
      "\u001b[1mThis error is usually caused by passing an argument of a type that is unsupported by the named function.\u001b[0m\u001b[0m\n",
      "\u001b[0m\u001b[1m[1] During: resolving callee type: Function(<built-in function array>)\u001b[0m\n",
      "\u001b[0m\u001b[1m[2] During: typing of call at <ipython-input-29-e8ef43ef0588> (9)\n",
      "\u001b[0m\n",
      "\u001b[1m\n",
      "File \"<ipython-input-29-e8ef43ef0588>\", line 9:\u001b[0m\n",
      "\u001b[1mdef encode_class():\n",
      "    <source elided>\n",
      "        d_encoded.append(membership)  \n",
      "\u001b[1m    d_encoded = np.array(d_encoded)\n",
      "\u001b[0m    \u001b[1m^\u001b[0m\u001b[0m\n",
      "\u001b[0m\n",
      "\n",
      "<ipython-input-29-e8ef43ef0588>:2: NumbaWarning:\n",
      "\n",
      "\u001b[1m\n",
      "Compilation is falling back to object mode WITHOUT looplifting enabled because Function \"encode_class\" failed type inference due to: \u001b[1m\u001b[1mcannot determine Numba type of <class 'numba.core.dispatcher.LiftedLoop'>\u001b[0m\n",
      "\u001b[1m\n",
      "File \"<ipython-input-29-e8ef43ef0588>\", line 5:\u001b[0m\n",
      "\u001b[1mdef encode_class():\n",
      "    <source elided>\n",
      "    d_encoded = []\n",
      "\u001b[1m    for i in range(len(labels)):\n",
      "\u001b[0m    \u001b[1m^\u001b[0m\u001b[0m\n",
      "\u001b[0m\u001b[0m\n",
      "\n",
      "/Users/juanpablo/Desktop/NNFL/plaidml/lib/python3.7/site-packages/numba/core/object_mode_passes.py:178: NumbaWarning:\n",
      "\n",
      "\u001b[1mFunction \"encode_class\" was compiled in object mode without forceobj=True, but has lifted loops.\n",
      "\u001b[1m\n",
      "File \"<ipython-input-29-e8ef43ef0588>\", line 4:\u001b[0m\n",
      "\u001b[1mdef encode_class():\n",
      "\u001b[1m    d_encoded = []\n",
      "\u001b[0m    \u001b[1m^\u001b[0m\u001b[0m\n",
      "\u001b[0m\n",
      "\n",
      "/Users/juanpablo/Desktop/NNFL/plaidml/lib/python3.7/site-packages/numba/core/object_mode_passes.py:188: NumbaDeprecationWarning:\n",
      "\n",
      "\u001b[1m\n",
      "Fall-back from the nopython compilation path to the object mode compilation path has been detected, this is deprecated behaviour.\n",
      "\n",
      "For more information visit http://numba.pydata.org/numba-doc/latest/reference/deprecation.html#deprecation-of-object-mode-fall-back-behaviour-when-using-jit\n",
      "\u001b[1m\n",
      "File \"<ipython-input-29-e8ef43ef0588>\", line 4:\u001b[0m\n",
      "\u001b[1mdef encode_class():\n",
      "\u001b[1m    d_encoded = []\n",
      "\u001b[0m    \u001b[1m^\u001b[0m\u001b[0m\n",
      "\u001b[0m\n",
      "\n",
      "<ipython-input-29-e8ef43ef0588>:2: NumbaWarning:\n",
      "\n",
      "\u001b[1m\n",
      "Compilation is falling back to object mode WITHOUT looplifting enabled because Function \"encode_class\" failed type inference due to: \u001b[1m\u001b[1mnon-precise type pyobject\u001b[0m\n",
      "\u001b[0m\u001b[1m[1] During: typing of argument at <ipython-input-29-e8ef43ef0588> (5)\u001b[0m\n",
      "\u001b[1m\n",
      "File \"<ipython-input-29-e8ef43ef0588>\", line 5:\u001b[0m\n",
      "\u001b[1mdef encode_class():\n",
      "    <source elided>\n",
      "    d_encoded = []\n",
      "\u001b[1m    for i in range(len(labels)):\n",
      "\u001b[0m    \u001b[1m^\u001b[0m\u001b[0m\n",
      "\u001b[0m\n",
      "\n",
      "/Users/juanpablo/Desktop/NNFL/plaidml/lib/python3.7/site-packages/numba/core/object_mode_passes.py:178: NumbaWarning:\n",
      "\n",
      "\u001b[1mFunction \"encode_class\" was compiled in object mode without forceobj=True.\n",
      "\u001b[1m\n",
      "File \"<ipython-input-29-e8ef43ef0588>\", line 5:\u001b[0m\n",
      "\u001b[1mdef encode_class():\n",
      "    <source elided>\n",
      "    d_encoded = []\n",
      "\u001b[1m    for i in range(len(labels)):\n",
      "\u001b[0m    \u001b[1m^\u001b[0m\u001b[0m\n",
      "\u001b[0m\n",
      "\n",
      "/Users/juanpablo/Desktop/NNFL/plaidml/lib/python3.7/site-packages/numba/core/object_mode_passes.py:188: NumbaDeprecationWarning:\n",
      "\n",
      "\u001b[1m\n",
      "Fall-back from the nopython compilation path to the object mode compilation path has been detected, this is deprecated behaviour.\n",
      "\n",
      "For more information visit http://numba.pydata.org/numba-doc/latest/reference/deprecation.html#deprecation-of-object-mode-fall-back-behaviour-when-using-jit\n",
      "\u001b[1m\n",
      "File \"<ipython-input-29-e8ef43ef0588>\", line 5:\u001b[0m\n",
      "\u001b[1mdef encode_class():\n",
      "    <source elided>\n",
      "    d_encoded = []\n",
      "\u001b[1m    for i in range(len(labels)):\n",
      "\u001b[0m    \u001b[1m^\u001b[0m\u001b[0m\n",
      "\u001b[0m\n",
      "\n"
     ]
    }
   ],
   "source": [
    "# Encode class membership vector\n",
    "def encode_class():\n",
    "    d_encoded = []\n",
    "    for i in range(len(labels)):\n",
    "        membership = np.zeros(len(words))\n",
    "        membership[words.index(labels[i])] = 1\n",
    "        d_encoded.append(membership)  \n",
    "    d_encoded = np.array(d_encoded)\n",
    "    return d_encoded"
   ]
  },
  {
   "cell_type": "code",
   "execution_count": null,
   "metadata": {},
   "outputs": [],
   "source": [
    "d_encoded = encode_class()"
   ]
  },
  {
   "cell_type": "code",
   "execution_count": 31,
   "metadata": {},
   "outputs": [],
   "source": [
    "# Save the results\n",
    "np.save('data/samples', X_pad)\n",
    "np.save('data/labels', d_encoded)"
   ]
  }
 ],
 "metadata": {
  "kernelspec": {
   "display_name": "nnfl",
   "language": "python",
   "name": "nnfl"
  },
  "language_info": {
   "codemirror_mode": {
    "name": "ipython",
    "version": 3
   },
   "file_extension": ".py",
   "mimetype": "text/x-python",
   "name": "python",
   "nbconvert_exporter": "python",
   "pygments_lexer": "ipython3",
   "version": "3.7.6"
  }
 },
 "nbformat": 4,
 "nbformat_minor": 4
}
