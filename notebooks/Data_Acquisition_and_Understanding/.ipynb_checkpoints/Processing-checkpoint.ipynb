{
 "cells": [
  {
   "cell_type": "markdown",
   "metadata": {},
   "source": [
    "# Data Processing"
   ]
  },
  {
   "cell_type": "code",
   "execution_count": 1,
   "metadata": {},
   "outputs": [],
   "source": [
    "import os\n",
    "\n",
    "import numpy as np\n",
    "\n",
    "import librosa\n",
    "\n",
    "%matplotlib inline\n",
    "import matplotlib.pyplot as plt"
   ]
  },
  {
   "cell_type": "code",
   "execution_count": null,
   "metadata": {},
   "outputs": [],
   "source": [
    "os.chdir('../../')\n",
    "print(os.getcwd())"
   ]
  },
  {
   "cell_type": "code",
   "execution_count": 3,
   "metadata": {},
   "outputs": [],
   "source": [
    "audiopath = 'data/audio/'\n",
    "words = os.listdir(audiopath)\n",
    "words.remove('.DS_Store')\n",
    "words.remove('_background_noise_')"
   ]
  },
  {
   "cell_type": "code",
   "execution_count": 4,
   "metadata": {},
   "outputs": [],
   "source": [
    "# Re-sampling of the data\n",
    "def re_sample(wds, tsr):\n",
    "    audio_samples_rs = []\n",
    "    labels = []\n",
    "    for w in wds:\n",
    "        files = os.listdir(audiopath+w)\n",
    "        for file in files:\n",
    "            samples, sample_rate = librosa.load(audiopath+'{}/{}'.format(w, file))\n",
    "            samples_rs = librosa.resample(samples, sample_rate, tsr)\n",
    "            audio_samples_rs.append(samples_rs)\n",
    "            labels.append(w)\n",
    "    return audio_samples_rs, labels"
   ]
  },
  {
   "cell_type": "code",
   "execution_count": 5,
   "metadata": {},
   "outputs": [],
   "source": [
    "target_sr = 8000\n",
    "samples, labels = re_sample(words, target_sr)"
   ]
  },
  {
   "cell_type": "code",
   "execution_count": 27,
   "metadata": {},
   "outputs": [],
   "source": [
    "# Adds padding to the files shorter than 8000 \n",
    "X_pad = [np.pad(samples[i], (int(np.floor((target_sr-len(samples[i]))/2)),\n",
    "                       int(np.ceil((target_sr-len(samples[i]))/2))), \n",
    "                'edge') if len(samples[i])<target_sr else samples[i] for i in range(len(samples))]"
   ]
  },
  {
   "cell_type": "code",
   "execution_count": 29,
   "metadata": {
    "collapsed": true,
    "jupyter": {
     "outputs_hidden": true
    }
   },
   "outputs": [],
   "source": [
    "# Encode class membership vector\n",
    "def encode_class():\n",
    "    d_encoded = []\n",
    "    for i in range(len(labels)):\n",
    "        membership = np.zeros(len(words))\n",
    "        membership[words.index(labels[i])] = 1\n",
    "        d_encoded.append(membership)  \n",
    "    d_encoded = np.array(d_encoded)\n",
    "    return d_encoded"
   ]
  },
  {
   "cell_type": "code",
   "execution_count": null,
   "metadata": {},
   "outputs": [],
   "source": [
    "d_encoded = encode_class()"
   ]
  },
  {
   "cell_type": "code",
   "execution_count": 31,
   "metadata": {},
   "outputs": [],
   "source": [
    "# Save the results\n",
    "np.save('data/samples', X_pad)\n",
    "np.save('data/labels', d_encoded)"
   ]
  }
 ],
 "metadata": {
  "kernelspec": {
   "display_name": "nnfl",
   "language": "python",
   "name": "nnfl"
  },
  "language_info": {
   "codemirror_mode": {
    "name": "ipython",
    "version": 3
   },
   "file_extension": ".py",
   "mimetype": "text/x-python",
   "name": "python",
   "nbconvert_exporter": "python",
   "pygments_lexer": "ipython3",
   "version": "3.7.6"
  }
 },
 "nbformat": 4,
 "nbformat_minor": 4
}
